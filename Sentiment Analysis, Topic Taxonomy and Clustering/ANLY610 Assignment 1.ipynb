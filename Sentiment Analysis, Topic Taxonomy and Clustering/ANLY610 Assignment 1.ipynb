{
 "cells": [
  {
   "cell_type": "code",
   "execution_count": 35,
   "metadata": {},
   "outputs": [],
   "source": [
    "import csv\n",
    "\n",
    "# The below command is used to import data from csv into a list of \n",
    "#dictionaries with the key being k and the value being v\n",
    "with open('cb_sample.csv') as f:\n",
    "    a = [{k: str(v) for k, v in row.items()}\n",
    "        for row in csv.DictReader(f)]"
   ]
  },
  {
   "cell_type": "code",
   "execution_count": 36,
   "metadata": {},
   "outputs": [
    {
     "data": {
      "text/plain": [
       "99"
      ]
     },
     "execution_count": 36,
     "metadata": {},
     "output_type": "execute_result"
    }
   ],
   "source": [
    "# The dataset should have 99 records\n",
    "len(a)"
   ]
  },
  {
   "cell_type": "code",
   "execution_count": 37,
   "metadata": {},
   "outputs": [
    {
     "data": {
      "text/plain": [
       "dict_keys(['name', 'city', 'region', 'country', 'category_list', 'category_groups_list', 'cb_url', 'rank', 'domain'])"
      ]
     },
     "execution_count": 37,
     "metadata": {},
     "output_type": "execute_result"
    }
   ],
   "source": [
    "# The dataset should have 9 columns\n",
    "a[0].keys()"
   ]
  },
  {
   "cell_type": "code",
   "execution_count": 38,
   "metadata": {},
   "outputs": [
    {
     "data": {
      "text/plain": [
       "86"
      ]
     },
     "execution_count": 38,
     "metadata": {},
     "output_type": "execute_result"
    }
   ],
   "source": [
    "# json.dumps takes in a json and returns a string\n",
    "# map function applies the json.dumps to each element and returns a list\n",
    "# set function dedups the string and returns unique values\n",
    "# json.loads takes the json string and returns a json object\n",
    "# list function converts it into a list\n",
    "# This achieves a deduped list of dictionaries\n",
    "import json\n",
    "b = list(map(json.loads,set(map(json.dumps, a))))\n",
    "# 13 duplicate elements in the list are deleted\n",
    "len(b)"
   ]
  }
 ],
 "metadata": {
  "kernelspec": {
   "display_name": "Python 3",
   "language": "python",
   "name": "python3"
  },
  "language_info": {
   "codemirror_mode": {
    "name": "ipython",
    "version": 3
   },
   "file_extension": ".py",
   "mimetype": "text/x-python",
   "name": "python",
   "nbconvert_exporter": "python",
   "pygments_lexer": "ipython3",
   "version": "3.7.4"
  }
 },
 "nbformat": 4,
 "nbformat_minor": 2
}
