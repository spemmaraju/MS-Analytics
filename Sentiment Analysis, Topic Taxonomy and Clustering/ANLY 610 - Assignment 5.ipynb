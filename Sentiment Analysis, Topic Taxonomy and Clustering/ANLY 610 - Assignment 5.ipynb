{
 "cells": [
  {
   "cell_type": "code",
   "execution_count": 2,
   "metadata": {},
   "outputs": [],
   "source": [
    "import numpy as np\n",
    "from gensim.models import KeyedVectors\n",
    "\n",
    "model_path = 'C:/Users/subha/Downloads/'"
   ]
  },
  {
   "cell_type": "code",
   "execution_count": 3,
   "metadata": {},
   "outputs": [
    {
     "name": "stdout",
     "output_type": "stream",
     "text": [
      "Loading Word2Vec model...\n",
      "Finished loading Word2Vec model...\n"
     ]
    }
   ],
   "source": [
    "def load_wordvec_model(modelName, modelFile, flagBin):\n",
    "    print('Loading ' + modelName + ' model...')\n",
    "    model = KeyedVectors.load_word2vec_format(model_path + modelFile, binary=flagBin)\n",
    "    print('Finished loading ' + modelName + ' model...')\n",
    "    return model\n",
    "\n",
    "model_word2vec = load_wordvec_model('Word2Vec', 'GoogleNews-vectors-negative300.bin.gz', True)"
   ]
  },
  {
   "cell_type": "code",
   "execution_count": 4,
   "metadata": {},
   "outputs": [],
   "source": [
    "def vec_similarity(input1, input2, vectors):\n",
    "    term_vectors = [np.zeros(300), np.zeros(300)]\n",
    "    terms = [input1, input2]\n",
    "        \n",
    "    for index, term in enumerate(terms):\n",
    "        for i, t in enumerate(term.split(' ')):\n",
    "            try:\n",
    "                term_vectors[index] += vectors[t]\n",
    "            except:\n",
    "                term_vectors[index] += 0\n",
    "        \n",
    "    result = (1 - spatial.distance.cosine(term_vectors[0], term_vectors[1]))\n",
    "    if result is 'nan':\n",
    "        result = 0\n",
    "        \n",
    "    return result"
   ]
  },
  {
   "cell_type": "code",
   "execution_count": 5,
   "metadata": {},
   "outputs": [],
   "source": [
    "# function checks whether the input words are present in the vocabulary for the model\n",
    "def vocab_check(vectors, words):\n",
    "    \n",
    "    output = list()\n",
    "    for word in words:\n",
    "        if word in vectors.vocab:\n",
    "            output.append(word.strip())\n",
    "            \n",
    "    return output"
   ]
  },
  {
   "cell_type": "code",
   "execution_count": 6,
   "metadata": {},
   "outputs": [],
   "source": [
    "# function calculates similarity between two strings using a particular word vector model\n",
    "def calc_similarity(input1, input2, vectors):\n",
    "    s1words = set(vocab_check(vectors, input1.split()))\n",
    "    s2words = set(vocab_check(vectors, input2.split()))\n",
    "    try:\n",
    "        output = vectors.n_similarity(s1words, s2words)\n",
    "    except:\n",
    "        output = 0\n",
    "    return output"
   ]
  },
  {
   "cell_type": "code",
   "execution_count": 7,
   "metadata": {},
   "outputs": [],
   "source": [
    "import json"
   ]
  },
  {
   "cell_type": "code",
   "execution_count": 8,
   "metadata": {},
   "outputs": [],
   "source": [
    "json_data=open(\"anly610_amazon.json\").readlines()\n",
    "feeds_read_from_file = []\n",
    "for line in json_data:\n",
    "    feeds_read_from_file.append(json.loads(line))"
   ]
  },
  {
   "cell_type": "code",
   "execution_count": 21,
   "metadata": {},
   "outputs": [],
   "source": [
    "data = []\n",
    "i = 0\n",
    "for record in feeds_read_from_file:\n",
    "    record['id'] = i\n",
    "    i+=1\n",
    "    data.append(record['title'])"
   ]
  },
  {
   "cell_type": "code",
   "execution_count": 25,
   "metadata": {},
   "outputs": [
    {
     "data": {
      "text/plain": [
       "'Kentucky: Worker killed at Amazon hub construction site'"
      ]
     },
     "execution_count": 25,
     "metadata": {},
     "output_type": "execute_result"
    }
   ],
   "source": [
    "compare_string = data[10]\n",
    "compare_string"
   ]
  },
  {
   "cell_type": "code",
   "execution_count": 26,
   "metadata": {},
   "outputs": [],
   "source": [
    "output = []\n",
    "for string_rec in data:\n",
    "    title_score = dict()\n",
    "    title_score['title'] = string_rec\n",
    "    title_score['similarity_score'] = calc_similarity(compare_string, string_rec, model_word2vec)\n",
    "    output.append(title_score)"
   ]
  },
  {
   "cell_type": "code",
   "execution_count": 28,
   "metadata": {},
   "outputs": [
    {
     "data": {
      "text/plain": [
       "[{'title': 'Amazon net sales up by 20% in 2019',\n",
       "  'similarity_score': 0.38007766},\n",
       " {'title': 'What Would It Cost to Buy Every Product Advertised During the Super Bowl?',\n",
       "  'similarity_score': 0.26303637},\n",
       " {'title': '#HelloChange: StarHub Introduces Amazon Prime Membership for All its Mobile Customers',\n",
       "  'similarity_score': 0.36394572},\n",
       " {'title': 'Amazon’s Jeff Bezos, the world’s richest person, added $8 billion to his fortune',\n",
       "  'similarity_score': 0.18404643},\n",
       " {'title': 'Amazon Horrors, Buttholes on Facebook and the Truth About Face Masks: Best Gizmodo Stories of the Week',\n",
       "  'similarity_score': 0.40776426}]"
      ]
     },
     "execution_count": 28,
     "metadata": {},
     "output_type": "execute_result"
    }
   ],
   "source": [
    "output[0:5]"
   ]
  },
  {
   "cell_type": "code",
   "execution_count": 32,
   "metadata": {},
   "outputs": [],
   "source": [
    "output1 = sorted(output, key = lambda i: i['similarity_score'],reverse=True) "
   ]
  },
  {
   "cell_type": "code",
   "execution_count": 34,
   "metadata": {},
   "outputs": [
    {
     "data": {
      "text/plain": [
       "[{'title': 'Kentucky: Worker killed at Amazon hub construction site',\n",
       "  'similarity_score': 1.0},\n",
       " {'title': 'Kentucky: Worker killed at Amazon hub construction site',\n",
       "  'similarity_score': 1.0},\n",
       " {'title': 'Kentucky: Worker killed at Amazon hub construction site',\n",
       "  'similarity_score': 1.0},\n",
       " {'title': 'Kentucky: Worker killed at Amazon hub construction site',\n",
       "  'similarity_score': 1.0},\n",
       " {'title': 'Kentucky: Worker killed at Amazon hub construction site',\n",
       "  'similarity_score': 1.0},\n",
       " {'title': 'Kentucky: Worker killed at Amazon hub construction site',\n",
       "  'similarity_score': 1.0},\n",
       " {'title': 'Kentucky: Worker killed at Amazon hub construction site',\n",
       "  'similarity_score': 1.0},\n",
       " {'title': 'Kentucky: Worker killed at Amazon hub construction site',\n",
       "  'similarity_score': 1.0},\n",
       " {'title': 'Kentucky: Worker killed at Amazon hub construction site',\n",
       "  'similarity_score': 1.0},\n",
       " {'title': 'Kentucky: Worker killed at Amazon hub construction site',\n",
       "  'similarity_score': 1.0},\n",
       " {'title': 'Kentucky: Worker killed at Amazon hub construction site',\n",
       "  'similarity_score': 1.0},\n",
       " {'title': 'Kentucky: Worker killed at Amazon hub construction site',\n",
       "  'similarity_score': 1.0},\n",
       " {'title': 'Kentucky: Worker killed at Amazon hub construction site',\n",
       "  'similarity_score': 1.0},\n",
       " {'title': 'Kentucky: Worker killed at Amazon hub construction site - The Edwardsville Intelligencer',\n",
       "  'similarity_score': 0.87641966},\n",
       " {'title': 'Worker killed on Amazon construction site at Ky. airport',\n",
       "  'similarity_score': 0.8749103},\n",
       " {'title': 'Coroner: Man dies in accident at Amazon construction site at CVG',\n",
       "  'similarity_score': 0.763095},\n",
       " {'title': 'Construction worker dies at Amazons CVG construction site',\n",
       "  'similarity_score': 0.7479265},\n",
       " {'title': 'Amazon to build new warehouse in Newnan, adding 500 jobs',\n",
       "  'similarity_score': 0.6209722},\n",
       " {'title': 'Amazon contractor Pinnacle Logistics to lay off 1,600 workers - Business Insider',\n",
       "  'similarity_score': 0.6187167},\n",
       " {'title': 'Amazon to build new warehouse in metro Atlanta, adding 500 jobs',\n",
       "  'similarity_score': 0.6165117},\n",
       " {'title': 'Amazon to build new warehouse in metro Atlanta, adding 500 jobs',\n",
       "  'similarity_score': 0.6165117},\n",
       " {'title': 'Construction begins on Amazon distribution center in Nampa',\n",
       "  'similarity_score': 0.6084682},\n",
       " {'title': 'Amazon workers risk their jobs to attack the company over climate policies',\n",
       "  'similarity_score': 0.58753604},\n",
       " {'title': 'Amazon workers risk their jobs to attack the company over climate policies',\n",
       "  'similarity_score': 0.58753604},\n",
       " {'title': 'Delivery hubs planned for Amazon Fresh,',\n",
       "  'similarity_score': 0.5860975},\n",
       " {'title': 'Amazon hits 500K workers', 'similarity_score': 0.57887304},\n",
       " {'title': 'Hundreds of Amazon employees blast management for slow climate action | Ars Technica',\n",
       "  'similarity_score': 0.5778619},\n",
       " {'title': 'Tech giant Amazon is opening a corporate office in the heart of Manchester... it means 600 jobs in the city',\n",
       "  'similarity_score': 0.57682073},\n",
       " {'title': 'Two Amazon workers among the 8 victims in downtown Seattle shootout',\n",
       "  'similarity_score': 0.57368445},\n",
       " {'title': 'Workers criticise Amazon on climate despite risk to jobs',\n",
       "  'similarity_score': 0.5717863},\n",
       " {'title': 'Workers criticise Amazon on climate despite risk to jobs',\n",
       "  'similarity_score': 0.5717863},\n",
       " {'title': 'Amazon to create 600 jobs at first Manchester office',\n",
       "  'similarity_score': 0.5703435},\n",
       " {'title': 'Workers criticize Amazon on climate despite risk to jobs - News',\n",
       "  'similarity_score': 0.5693946},\n",
       " {'title': 'Workers criticize Amazon on climate despite risk to jobs - News',\n",
       "  'similarity_score': 0.5693946},\n",
       " {'title': 'Amazon worker numbers top 500,000', 'similarity_score': 0.5692667},\n",
       " {'title': 'Amazon Fresh: Amazon plans to build large delivery hubs for Amazon Fresh in India, Technology News, ETtech',\n",
       "  'similarity_score': 0.5673919},\n",
       " {'title': 'Amazon to open new ‘themed’ pop-up store at Seattle HQ in latest brick-and-mortar expansion',\n",
       "  'similarity_score': 0.56360555},\n",
       " {'title': 'Amazon employees criticise online retail giant on climate despite risk to jobs',\n",
       "  'similarity_score': 0.5635317},\n",
       " {'title': 'Amazon to build $60M plant Pullman neighborhood',\n",
       "  'similarity_score': 0.5629276},\n",
       " {'title': 'Officials: Amazon center in Tennessee to create 1,000 jobs',\n",
       "  'similarity_score': 0.56251836},\n",
       " {'title': 'Officials: Amazon center in Tennessee to create 1,000 jobs',\n",
       "  'similarity_score': 0.56251836},\n",
       " {'title': 'Officials: Amazon center in Tennessee to create 1,000 jobs - GreenwichTime',\n",
       "  'similarity_score': 0.56251836},\n",
       " {'title': 'Officials: Amazon center in Tennessee to create 1,000 jobs',\n",
       "  'similarity_score': 0.56251836},\n",
       " {'title': \"Hundreds of Amazon workers criticize the company's climate policy\",\n",
       "  'similarity_score': 0.56018114},\n",
       " {'title': 'Workers criticize Amazon on climate despite risk to jobs - KVOA',\n",
       "  'similarity_score': 0.5597391},\n",
       " {'title': 'Two Amazon workers among the 8 victims in downtown Seattle shootout | Q13 FOX News',\n",
       "  'similarity_score': 0.559576},\n",
       " {'title': 'Two Amazon workers among the 8 victims in downtown Seattle shootout | Q13 FOX News',\n",
       "  'similarity_score': 0.559576},\n",
       " {'title': 'Two Amazon workers among the 8 victims in downtown Seattle shootout | Q13 FOX News',\n",
       "  'similarity_score': 0.559576},\n",
       " {'title': 'Workers criticize Amazon on climate despite risk to jobs - Westport News',\n",
       "  'similarity_score': 0.5590388},\n",
       " {'title': 'Workers criticize Amazon on climate despite risk to jobs',\n",
       "  'similarity_score': 0.5559988},\n",
       " {'title': 'Workers criticize Amazon on climate despite risk to jobs',\n",
       "  'similarity_score': 0.5559988},\n",
       " {'title': 'Workers criticize Amazon on climate despite risk to jobs',\n",
       "  'similarity_score': 0.5559988},\n",
       " {'title': 'Workers criticize Amazon on climate despite risk to jobs',\n",
       "  'similarity_score': 0.5559988},\n",
       " {'title': 'Workers criticize Amazon on climate despite risk to jobs',\n",
       "  'similarity_score': 0.5559988},\n",
       " {'title': 'Workers criticize Amazon on climate despite risk to jobs',\n",
       "  'similarity_score': 0.5559988},\n",
       " {'title': 'Workers criticize Amazon on climate despite risk to jobs',\n",
       "  'similarity_score': 0.5559988},\n",
       " {'title': 'Workers criticize Amazon on climate despite risk to jobs',\n",
       "  'similarity_score': 0.5559988},\n",
       " {'title': 'Workers criticize Amazon on climate despite risk to jobs',\n",
       "  'similarity_score': 0.5559988},\n",
       " {'title': 'Workers criticize Amazon on climate despite risk to jobs',\n",
       "  'similarity_score': 0.5559988},\n",
       " {'title': 'Workers criticize Amazon on climate despite risk to jobs',\n",
       "  'similarity_score': 0.5559988},\n",
       " {'title': 'Workers criticize Amazon on climate despite risk to jobs',\n",
       "  'similarity_score': 0.5559988},\n",
       " {'title': 'Workers criticize Amazon on climate despite risk to jobs',\n",
       "  'similarity_score': 0.5559988},\n",
       " {'title': 'Workers criticize Amazon on climate despite risk to jobs',\n",
       "  'similarity_score': 0.5559988},\n",
       " {'title': 'Workers criticize Amazon on climate despite risk to jobs',\n",
       "  'similarity_score': 0.5559988},\n",
       " {'title': 'Workers criticize Amazon on climate despite risk to jobs',\n",
       "  'similarity_score': 0.5559988},\n",
       " {'title': 'Workers criticize Amazon on climate despite risk to jobs',\n",
       "  'similarity_score': 0.5559988},\n",
       " {'title': 'Workers criticize Amazon on climate despite risk to jobs',\n",
       "  'similarity_score': 0.5559988},\n",
       " {'title': 'Workers criticize Amazon on climate despite risk to jobs',\n",
       "  'similarity_score': 0.5559988},\n",
       " {'title': 'Workers criticize Amazon on climate despite risk to jobs',\n",
       "  'similarity_score': 0.5559988},\n",
       " {'title': 'Workers criticize Amazon on climate despite risk to jobs',\n",
       "  'similarity_score': 0.5559988},\n",
       " {'title': 'Workers criticize Amazon on climate despite risk to jobs',\n",
       "  'similarity_score': 0.5559988},\n",
       " {'title': 'Workers criticize Amazon on climate despite risk to jobs',\n",
       "  'similarity_score': 0.5559988},\n",
       " {'title': 'Workers criticize Amazon on climate despite risk to jobs',\n",
       "  'similarity_score': 0.5559988},\n",
       " {'title': 'Workers criticize Amazon on climate despite risk to jobs',\n",
       "  'similarity_score': 0.5559988},\n",
       " {'title': 'Workers criticize Amazon on climate despite risk to jobs',\n",
       "  'similarity_score': 0.5559988},\n",
       " {'title': 'Workers criticize Amazon on climate despite risk to jobs',\n",
       "  'similarity_score': 0.5559988},\n",
       " {'title': 'Workers criticize Amazon on climate despite risk to jobs',\n",
       "  'similarity_score': 0.5559988},\n",
       " {'title': 'Workers criticize Amazon on climate despite risk to jobs',\n",
       "  'similarity_score': 0.5559988},\n",
       " {'title': 'Workers criticize Amazon on climate despite risk to jobs',\n",
       "  'similarity_score': 0.5559988},\n",
       " {'title': 'Workers criticize Amazon on climate despite risk to jobs',\n",
       "  'similarity_score': 0.5559988},\n",
       " {'title': 'Workers criticize Amazon on climate despite risk to jobs',\n",
       "  'similarity_score': 0.5559988},\n",
       " {'title': 'Workers criticize Amazon on climate despite risk to jobs',\n",
       "  'similarity_score': 0.5559988},\n",
       " {'title': 'Workers criticize Amazon on climate despite risk to jobs',\n",
       "  'similarity_score': 0.5559988},\n",
       " {'title': 'Workers criticize Amazon on climate despite risk to jobs',\n",
       "  'similarity_score': 0.5559988},\n",
       " {'title': 'Workers criticize Amazon on climate despite risk to jobs',\n",
       "  'similarity_score': 0.5559988},\n",
       " {'title': 'Workers criticize Amazon on climate despite risk to jobs',\n",
       "  'similarity_score': 0.5559988},\n",
       " {'title': 'Workers criticize Amazon on climate despite risk to jobs',\n",
       "  'similarity_score': 0.5559988},\n",
       " {'title': 'Workers criticize Amazon on climate despite risk to jobs | RochesterFirst',\n",
       "  'similarity_score': 0.5559988},\n",
       " {'title': 'Workers criticize Amazon on climate despite risk to jobs | FOX40',\n",
       "  'similarity_score': 0.5559988},\n",
       " {'title': 'Workers criticize Amazon on climate despite risk to jobs',\n",
       "  'similarity_score': 0.5559988},\n",
       " {'title': 'Workers criticize Amazon on climate despite risk to jobs',\n",
       "  'similarity_score': 0.5559988},\n",
       " {'title': 'Workers criticize Amazon on climate despite risk to jobs',\n",
       "  'similarity_score': 0.5559988},\n",
       " {'title': 'Workers criticize Amazon on climate despite risk to jobs',\n",
       "  'similarity_score': 0.5559988},\n",
       " {'title': 'Workers criticize Amazon on climate despite risk to jobs',\n",
       "  'similarity_score': 0.5559988},\n",
       " {'title': 'Officials: Amazon center to create 1,000 jobs in Memphis',\n",
       "  'similarity_score': 0.55475587},\n",
       " {'title': 'Hundreds of Amazon employees put jobs at risk by criticizing',\n",
       "  'similarity_score': 0.55327064},\n",
       " {'title': 'Amazon to open new ‘themed’ pop-up store at Seattle HQ in latest physical retail expansion – GeekWire',\n",
       "  'similarity_score': 0.5525117},\n",
       " {'title': \"Hundreds of Amazon employees risk jobs to protest company's climate policies\",\n",
       "  'similarity_score': 0.55112386},\n",
       " {'title': \"Hundreds of Amazon employees risk jobs to protest company's climate policies\",\n",
       "  'similarity_score': 0.55112386}]"
      ]
     },
     "execution_count": 34,
     "metadata": {},
     "output_type": "execute_result"
    }
   ],
   "source": [
    "output1[0:99]"
   ]
  }
 ],
 "metadata": {
  "kernelspec": {
   "display_name": "Python 3",
   "language": "python",
   "name": "python3"
  },
  "language_info": {
   "codemirror_mode": {
    "name": "ipython",
    "version": 3
   },
   "file_extension": ".py",
   "mimetype": "text/x-python",
   "name": "python",
   "nbconvert_exporter": "python",
   "pygments_lexer": "ipython3",
   "version": "3.7.4"
  }
 },
 "nbformat": 4,
 "nbformat_minor": 2
}
