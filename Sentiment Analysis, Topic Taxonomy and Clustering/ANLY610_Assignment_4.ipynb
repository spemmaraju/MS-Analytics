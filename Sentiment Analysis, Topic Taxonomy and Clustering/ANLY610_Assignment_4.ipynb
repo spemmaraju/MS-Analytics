{
 "cells": [
  {
   "cell_type": "markdown",
   "metadata": {},
   "source": [
    "### Keyword Extraction using TextRank"
   ]
  },
  {
   "cell_type": "code",
   "execution_count": 14,
   "metadata": {
    "collapsed": true
   },
   "outputs": [],
   "source": [
    "from collections import OrderedDict\n",
    "import numpy as np\n",
    "import spacy\n",
    "from spacy.lang.en.stop_words import STOP_WORDS"
   ]
  },
  {
   "cell_type": "code",
   "execution_count": 16,
   "metadata": {},
   "outputs": [],
   "source": [
    "# nlp = spacy.load('en_core_web_sm')\n",
    "\n",
    "import en_core_web_sm\n",
    "nlp = en_core_web_sm.load()"
   ]
  },
  {
   "cell_type": "code",
   "execution_count": 17,
   "metadata": {
    "collapsed": true
   },
   "outputs": [],
   "source": [
    "class TextRank4Keyword():\n",
    "    \"\"\"Extract keywords from text\"\"\"\n",
    "    \n",
    "    def __init__(self):\n",
    "        self.d = 0.85 # damping coefficient, usually is .85\n",
    "        self.min_diff = 1e-5 # convergence threshold\n",
    "        self.steps = 10 # iteration steps\n",
    "        self.node_weight = None # save keywords and its weight\n",
    "\n",
    "    \n",
    "    def set_stopwords(self, stopwords):  \n",
    "        \"\"\"Set stop words\"\"\"\n",
    "        for word in STOP_WORDS.union(set(stopwords)):\n",
    "            lexeme = nlp.vocab[word]\n",
    "            lexeme.is_stop = True\n",
    "    \n",
    "    def sentence_segment(self, doc, candidate_pos, lower):\n",
    "        \"\"\"Store those words only in cadidate_pos\"\"\"\n",
    "        sentences = []\n",
    "        for sent in doc.sents:\n",
    "            selected_words = []\n",
    "            for token in sent:\n",
    "                # Store words only with cadidate POS tag\n",
    "                if token.pos_ in candidate_pos and token.is_stop is False:\n",
    "                    if lower is True:\n",
    "                        selected_words.append(token.text.lower())\n",
    "                    else:\n",
    "                        selected_words.append(token.text)\n",
    "            sentences.append(selected_words)\n",
    "        return sentences\n",
    "        \n",
    "    def get_vocab(self, sentences):\n",
    "        \"\"\"Get all tokens\"\"\"\n",
    "        vocab = OrderedDict()\n",
    "        i = 0\n",
    "        for sentence in sentences:\n",
    "            for word in sentence:\n",
    "                if word not in vocab:\n",
    "                    vocab[word] = i\n",
    "                    i += 1\n",
    "        return vocab\n",
    "    \n",
    "    def get_token_pairs(self, window_size, sentences):\n",
    "        \"\"\"Build token_pairs from windows in sentences\"\"\"\n",
    "        token_pairs = list()\n",
    "        for sentence in sentences:\n",
    "            for i, word in enumerate(sentence):\n",
    "                for j in range(i+1, i+window_size):\n",
    "                    if j >= len(sentence):\n",
    "                        break\n",
    "                    pair = (word, sentence[j])\n",
    "                    if pair not in token_pairs:\n",
    "                        token_pairs.append(pair)\n",
    "        return token_pairs\n",
    "        \n",
    "    def symmetrize(self, a):\n",
    "        return a + a.T - np.diag(a.diagonal())\n",
    "    \n",
    "    def get_matrix(self, vocab, token_pairs):\n",
    "        \"\"\"Get normalized matrix\"\"\"\n",
    "        # Build matrix\n",
    "        vocab_size = len(vocab)\n",
    "        g = np.zeros((vocab_size, vocab_size), dtype='float')\n",
    "        for word1, word2 in token_pairs:\n",
    "            i, j = vocab[word1], vocab[word2]\n",
    "            g[i][j] = 1\n",
    "            \n",
    "        # Get Symmeric matrix\n",
    "        g = self.symmetrize(g)\n",
    "        \n",
    "        # Normalize matrix by column\n",
    "        norm = np.sum(g, axis=0)\n",
    "        g_norm = np.divide(g, norm, where=norm!=0) # this is ignore the 0 element in norm\n",
    "        \n",
    "        return g_norm\n",
    "\n",
    "    \n",
    "    def get_keywords(self, number=10):\n",
    "        \"\"\"Print top number keywords\"\"\"\n",
    "        node_weight = OrderedDict(sorted(self.node_weight.items(), key=lambda t: t[1], reverse=True))\n",
    "        for i, (key, value) in enumerate(node_weight.items()):\n",
    "            print(key + ' - ' + str(value))\n",
    "            if i > number:\n",
    "                break\n",
    "        \n",
    "        \n",
    "    def analyze(self, text, \n",
    "                candidate_pos=['NOUN', 'PROPN'], \n",
    "                window_size=4, lower=False, stopwords=list()):\n",
    "        \"\"\"Main function to analyze text\"\"\"\n",
    "        \n",
    "        # Set stop words\n",
    "        self.set_stopwords(stopwords)\n",
    "        \n",
    "        # Pare text by spaCy\n",
    "        doc = nlp(text)\n",
    "        \n",
    "        # Filter sentences\n",
    "        sentences = self.sentence_segment(doc, candidate_pos, lower) # list of list of words\n",
    "        \n",
    "        # Build vocabulary\n",
    "        vocab = self.get_vocab(sentences)\n",
    "        \n",
    "        # Get token_pairs from windows\n",
    "        token_pairs = self.get_token_pairs(window_size, sentences)\n",
    "        \n",
    "        # Get normalized matrix\n",
    "        g = self.get_matrix(vocab, token_pairs)\n",
    "        \n",
    "        # Initionlization for weight(pagerank value)\n",
    "        pr = np.array([1] * len(vocab))\n",
    "        \n",
    "        # Iteration\n",
    "        previous_pr = 0\n",
    "        for epoch in range(self.steps):\n",
    "            pr = (1-self.d) + self.d * np.dot(g, pr)\n",
    "            if abs(previous_pr - sum(pr))  < self.min_diff:\n",
    "                break\n",
    "            else:\n",
    "                previous_pr = sum(pr)\n",
    "\n",
    "        # Get weight for each node\n",
    "        node_weight = dict()\n",
    "        for word, index in vocab.items():\n",
    "            node_weight[word] = pr[index]\n",
    "        \n",
    "        self.node_weight = node_weight"
   ]
  },
  {
   "cell_type": "code",
   "execution_count": 18,
   "metadata": {
    "collapsed": true
   },
   "outputs": [],
   "source": [
    "keyphrase_extractor = TextRank4Keyword()\n"
   ]
  },
  {
   "cell_type": "code",
   "execution_count": 24,
   "metadata": {},
   "outputs": [],
   "source": [
    "import json\n",
    "json_data=open(\"anly610_amazon.json\").readlines()\n",
    "feeds_read_from_file = []\n",
    "for line in json_data:\n",
    "    feeds_read_from_file.append(json.loads(line))"
   ]
  },
  {
   "cell_type": "code",
   "execution_count": 27,
   "metadata": {},
   "outputs": [],
   "source": [
    "text=feeds_read_from_file[1]['text']"
   ]
  },
  {
   "cell_type": "code",
   "execution_count": 31,
   "metadata": {},
   "outputs": [
    {
     "data": {
      "text/plain": [
       "'Gotta buy ‘em all! Photo illustration by Slate. Photos by Mark Wilson/Getty Images, Pablo Blazquez Dominguez/Getty Images, and Amazon. Once a year, the National Football League canvasses every business, political campaign, and private equity bust-out operation in the country to ask them one important question: Do you love professional football so much that you are willing to pay $10 million a minute for access to the personal eyes and ears of your fellow football fans? The result is a comprehensive list of the products and services true football fans should purchase in 2020, both to demonstrate their love of the sport and to reward the corporations who helped fund the Big Game. It can be a daunting task, so to help you out, this year Slate is building a shopping list of every product advertised during Super Bowl LIV, complete with the estimated price and a running total to buy one of everything. Are you a big enough football fan to collect the whole set? A few notes on the methodology: Only full-screen Super Bowl ads during the game count—get out of here with your pre-shows and network bugs—and local ads will be taken from the broadcast on KTTV in Los Angeles, California, the home of Slate’s Center for Extremely Useful and Important Consumer Research. We’ll be using $9.08, the average price of a movie ticket nationally , as the cost for any upcoming movies advertised during the game. For items for which a national average price was not readily available, we’ve used the price at Super Bowl advertiser and frequent labor law violator Walmart, and we recommend you show your support for your favorite football team by doing the same. We’ll be updating the throughout the game, so check back to see how much you’re on the hook for! A Ticket to Fast 9 – $9.80 Fast fast fast fast fast fast fast fast fast. That’s the Fast 9 promise! One Year of Quibi – $59.88 You could upgrade to an ad-free version of Quibi for an extra $34.92 a year, but then how would you know what products or services to buy to show your support for Quibi? Tide Power PODS Heavy Duty, 48 Ct. – $21.44 Make next year’s Super Bowl party a night to remember by feeding your hungry boys a tray of delicious heavy duty Tide Power PODS! The Masked Singer’s Post-Super Bowl Episode – Free! All you have to do is leave your TV on after the game, and you’ve already started your journey toward true fooball greatness! The Datona 500 on Fox – Free! Assuming you already own a television and live near a Fox station, all it will cost you to watch football’s biggest automobile race is a few hours of your life. And you’ve got plenty of those, right? Right? Donald Trump 2020 – Your soul, your future, your children’s lives I’m not going to lie to you: voting for Donald Trump for president in 2020 to show that you’re a good football fan is an expensive proposition. But it costs a lot to put on a Super Bowl every year, too, and you don’t hear the NFL complaining about that. Do your part! That’s a running total of $90.40, plus your soul, your future, and your children’s lives, which seems like a lot at first, but ask yourself this: is any price too high to pay to support football?'"
      ]
     },
     "execution_count": 31,
     "metadata": {},
     "output_type": "execute_result"
    }
   ],
   "source": [
    "feeds_read_from_file[1]['text']"
   ]
  },
  {
   "cell_type": "code",
   "execution_count": 28,
   "metadata": {},
   "outputs": [
    {
     "name": "stdout",
     "output_type": "stream",
     "text": [
      "football - 4.91591746553\n",
      "Bowl - 3.44579789004\n",
      "Super - 3.30522113069\n",
      "year - 2.81920886959\n",
      "game - 2.4719117412\n",
      "price - 2.44153959913\n",
      "ads - 1.95888473352\n",
      "Slate - 1.70751795612\n",
      "question - 1.68280329404\n",
      "list - 1.46968282256\n",
      "fans - 1.40249057954\n",
      "- - 1.38811884021\n"
     ]
    }
   ],
   "source": [
    "tr4w = TextRank4Keyword()\n",
    "tr4w.analyze(text, candidate_pos = ['NOUN', 'PROPN',\"ADP\"], window_size=8, lower=False)\n",
    "tr4w.get_keywords(10)"
   ]
  },
  {
   "cell_type": "markdown",
   "metadata": {},
   "source": [
    "### Extractive Text Summarization"
   ]
  },
  {
   "cell_type": "code",
   "execution_count": 29,
   "metadata": {},
   "outputs": [
    {
     "name": "stdout",
     "output_type": "stream",
     "text": [
      "Collecting sumy\n",
      "  Downloading https://files.pythonhosted.org/packages/61/20/8abf92617ec80a2ebaec8dc1646a790fc9656a4a4377ddb9f0cc90bc9326/sumy-0.8.1-py2.py3-none-any.whl (83kB)\n",
      "Requirement already satisfied: nltk>=3.0.2 in c:\\users\\subha\\anaconda3\\lib\\site-packages (from sumy)\n",
      "Collecting docopt<0.7,>=0.6.1 (from sumy)\n",
      "  Downloading https://files.pythonhosted.org/packages/a2/55/8f8cab2afd404cf578136ef2cc5dfb50baa1761b68c9da1fb1e4eed343c9/docopt-0.6.2.tar.gz\n",
      "Collecting breadability>=0.1.20 (from sumy)\n",
      "  Downloading https://files.pythonhosted.org/packages/ad/2d/bb6c9b381e6b6a432aa2ffa8f4afdb2204f1ff97cfcc0766a5b7683fec43/breadability-0.1.20.tar.gz\n",
      "Requirement already satisfied: requests>=2.7.0 in c:\\users\\subha\\anaconda3\\lib\\site-packages (from sumy)\n",
      "Collecting pycountry>=18.2.23 (from sumy)\n",
      "  Downloading https://files.pythonhosted.org/packages/16/b6/154fe93072051d8ce7bf197690957b6d0ac9a21d51c9a1d05bd7c6fdb16f/pycountry-19.8.18.tar.gz (10.0MB)\n",
      "Requirement already satisfied: six in c:\\users\\subha\\anaconda3\\lib\\site-packages (from nltk>=3.0.2->sumy)\n",
      "Requirement already satisfied: chardet in c:\\users\\subha\\anaconda3\\lib\\site-packages (from breadability>=0.1.20->sumy)\n",
      "Requirement already satisfied: lxml>=2.0 in c:\\users\\subha\\anaconda3\\lib\\site-packages (from breadability>=0.1.20->sumy)\n",
      "Requirement already satisfied: idna<2.9,>=2.5 in c:\\users\\subha\\anaconda3\\lib\\site-packages (from requests>=2.7.0->sumy)\n",
      "Requirement already satisfied: certifi>=2017.4.17 in c:\\users\\subha\\anaconda3\\lib\\site-packages (from requests>=2.7.0->sumy)\n",
      "Requirement already satisfied: urllib3!=1.25.0,!=1.25.1,<1.26,>=1.21.1 in c:\\users\\subha\\anaconda3\\lib\\site-packages (from requests>=2.7.0->sumy)\n",
      "Building wheels for collected packages: docopt, breadability, pycountry\n",
      "  Running setup.py bdist_wheel for docopt: started\n",
      "  Running setup.py bdist_wheel for docopt: finished with status 'done'\n",
      "  Stored in directory: C:\\Users\\subha\\AppData\\Local\\pip\\Cache\\wheels\\9b\\04\\dd\\7daf4150b6d9b12949298737de9431a324d4b797ffd63f526e\n",
      "  Running setup.py bdist_wheel for breadability: started\n",
      "  Running setup.py bdist_wheel for breadability: finished with status 'done'\n",
      "  Stored in directory: C:\\Users\\subha\\AppData\\Local\\pip\\Cache\\wheels\\5a\\4d\\a1\\510b12c5e65e0b2b3ce539b2af66da0fc57571e528924f4a52\n",
      "  Running setup.py bdist_wheel for pycountry: started\n",
      "  Running setup.py bdist_wheel for pycountry: finished with status 'done'\n",
      "  Stored in directory: C:\\Users\\subha\\AppData\\Local\\pip\\Cache\\wheels\\a2\\98\\bf\\f0fa1c6bf8cf2cbdb750d583f84be51c2cd8272460b8b36bd3\n",
      "Successfully built docopt breadability pycountry\n",
      "Installing collected packages: docopt, breadability, pycountry, sumy\n",
      "Successfully installed breadability-0.1.20 docopt-0.6.2 pycountry-19.8.18 sumy-0.8.1\n"
     ]
    },
    {
     "name": "stderr",
     "output_type": "stream",
     "text": [
      "You are using pip version 9.0.1, however version 20.0.2 is available.\n",
      "You should consider upgrading via the 'python -m pip install --upgrade pip' command.\n"
     ]
    }
   ],
   "source": [
    "!pip install sumy"
   ]
  },
  {
   "cell_type": "code",
   "execution_count": 30,
   "metadata": {
    "collapsed": true
   },
   "outputs": [],
   "source": [
    "from sumy.parsers.plaintext import PlaintextParser\n",
    "from sumy.parsers.html import HtmlParser\n",
    "from sumy.nlp.tokenizers import Tokenizer\n",
    "from sumy.summarizers.lex_rank import LexRankSummarizer\n",
    "\n",
    "class TextSummary(object):\n",
    "\n",
    "    def __init__(self, feeds_str, num_sents):\n",
    "        self.summary = str()\n",
    "        \n",
    "        parser = PlaintextParser.from_string(feeds_str, Tokenizer(\"english\"))\n",
    "        summarizer = LexRankSummarizer()\n",
    "\n",
    "        sentences = summarizer(parser.document, num_sents)  # Summarize the document with 5 sentences\n",
    "        for sentence in sentences:\n",
    "            self.summary += (sentence.__unicode__())\n",
    "\n",
    "    def output(self):\n",
    "        return self.summary"
   ]
  },
  {
   "cell_type": "code",
   "execution_count": 32,
   "metadata": {},
   "outputs": [
    {
     "data": {
      "text/plain": [
       "'Gotta buy ‘em all! Photo illustration by Slate. Photos by Mark Wilson/Getty Images, Pablo Blazquez Dominguez/Getty Images, and Amazon. Once a year, the National Football League canvasses every business, political campaign, and private equity bust-out operation in the country to ask them one important question: Do you love professional football so much that you are willing to pay $10 million a minute for access to the personal eyes and ears of your fellow football fans? The result is a comprehensive list of the products and services true football fans should purchase in 2020, both to demonstrate their love of the sport and to reward the corporations who helped fund the Big Game. It can be a daunting task, so to help you out, this year Slate is building a shopping list of every product advertised during Super Bowl LIV, complete with the estimated price and a running total to buy one of everything. Are you a big enough football fan to collect the whole set? A few notes on the methodology: Only full-screen Super Bowl ads during the game count—get out of here with your pre-shows and network bugs—and local ads will be taken from the broadcast on KTTV in Los Angeles, California, the home of Slate’s Center for Extremely Useful and Important Consumer Research. We’ll be using $9.08, the average price of a movie ticket nationally , as the cost for any upcoming movies advertised during the game. For items for which a national average price was not readily available, we’ve used the price at Super Bowl advertiser and frequent labor law violator Walmart, and we recommend you show your support for your favorite football team by doing the same. We’ll be updating the throughout the game, so check back to see how much you’re on the hook for! A Ticket to Fast 9 – $9.80 Fast fast fast fast fast fast fast fast fast. That’s the Fast 9 promise! One Year of Quibi – $59.88 You could upgrade to an ad-free version of Quibi for an extra $34.92 a year, but then how would you know what products or services to buy to show your support for Quibi? Tide Power PODS Heavy Duty, 48 Ct. – $21.44 Make next year’s Super Bowl party a night to remember by feeding your hungry boys a tray of delicious heavy duty Tide Power PODS! The Masked Singer’s Post-Super Bowl Episode – Free! All you have to do is leave your TV on after the game, and you’ve already started your journey toward true fooball greatness! The Datona 500 on Fox – Free! Assuming you already own a television and live near a Fox station, all it will cost you to watch football’s biggest automobile race is a few hours of your life. And you’ve got plenty of those, right? Right? Donald Trump 2020 – Your soul, your future, your children’s lives I’m not going to lie to you: voting for Donald Trump for president in 2020 to show that you’re a good football fan is an expensive proposition. But it costs a lot to put on a Super Bowl every year, too, and you don’t hear the NFL complaining about that. Do your part! That’s a running total of $90.40, plus your soul, your future, and your children’s lives, which seems like a lot at first, but ask yourself this: is any price too high to pay to support football?'"
      ]
     },
     "execution_count": 32,
     "metadata": {},
     "output_type": "execute_result"
    }
   ],
   "source": [
    "feeds_read_from_file[1]['text']"
   ]
  },
  {
   "cell_type": "code",
   "execution_count": 34,
   "metadata": {},
   "outputs": [
    {
     "name": "stdout",
     "output_type": "stream",
     "text": [
      "Once a year, the National Football League canvasses every business, political campaign, and private equity bust-out operation in the country to ask them one important question: Do you love professional football so much that you are willing to pay $10 million a minute for access to the personal eyes and ears of your fellow football fans?It can be a daunting task, so to help you out, this year Slate is building a shopping list of every product advertised during Super Bowl LIV, complete with the estimated price and a running total to buy one of everything.All you have to do is leave your TV on after the game, and you’ve already started your journey toward true fooball greatness!And you’ve got plenty of those, right?That’s a running total of $90.40, plus your soul, your future, and your children’s lives, which seems like a lot at first, but ask yourself this: is any price too high to pay to support football?\n"
     ]
    }
   ],
   "source": [
    "text_to_sum = TextSummary(text,5)\n",
    "print(text_to_sum.output())"
   ]
  }
 ],
 "metadata": {
  "kernelspec": {
   "display_name": "Python 3",
   "language": "python",
   "name": "python3"
  },
  "language_info": {
   "codemirror_mode": {
    "name": "ipython",
    "version": 3
   },
   "file_extension": ".py",
   "mimetype": "text/x-python",
   "name": "python",
   "nbconvert_exporter": "python",
   "pygments_lexer": "ipython3",
   "version": "3.7.4"
  }
 },
 "nbformat": 4,
 "nbformat_minor": 2
}
