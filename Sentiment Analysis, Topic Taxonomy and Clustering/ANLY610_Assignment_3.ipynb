{
 "cells": [
  {
   "cell_type": "code",
   "execution_count": 1,
   "metadata": {
    "collapsed": true
   },
   "outputs": [],
   "source": [
    "import webhoseio, os"
   ]
  },
  {
   "cell_type": "code",
   "execution_count": 4,
   "metadata": {},
   "outputs": [
    {
     "name": "stdout",
     "output_type": "stream",
     "text": [
      "16137\n"
     ]
    }
   ],
   "source": [
    "#     import webhoseio\n",
    "webhoseio.config(token=\"e23b3127-813c-4c0a-b147-101d9f5754fa\")\n",
    "query_params = {\n",
    "\"q\": \"organization:Amazon site_category:media spam_score:<0.8 language:english\",\n",
    "\"ts\": \"1578098301474\",\n",
    "\"sort\": \"published\"\n",
    "}\n",
    "output = webhoseio.query(\"filterWebContent\", query_params)\n",
    "print(output['totalResults'])"
   ]
  },
  {
   "cell_type": "code",
   "execution_count": null,
   "metadata": {
    "collapsed": true
   },
   "outputs": [],
   "source": [
    "#     print output['posts'][0]['text'] # Print the text of the first post\n",
    "#     print output['posts'][0]['published'] # Print the text of the first post publication date\n",
    "\n",
    "    \n",
    "# # Get the next batch of posts\n",
    "\n",
    "#     output = webhoseio.get_next()\n",
    "\n",
    "    \n",
    "# # Print the site of the first post\n",
    "\n",
    "#     print output['posts'][0]['thread']['site']"
   ]
  },
  {
   "cell_type": "code",
   "execution_count": 5,
   "metadata": {},
   "outputs": [
    {
     "name": "stdout",
     "output_type": "stream",
     "text": [
      "Amazon net sales up by 20% in 2019 https://www.booksandpublishing.com.au/articles/2020/02/03/144923/amazon-net-sales-up-by-20-in-2019/\n",
      "What Would It Cost to Buy Every Product Advertised During the Super Bowl? https://slate.com/culture/2020/02/super-bowl-ads-cost-to-buy-every-product-and-service.html\n",
      "#HelloChange: StarHub Introduces Amazon Prime Membership for All its Mobile Customers https://techcoffeehouse.com/2020/02/03/hellochange-starhub-introduces-amazon-prime-membership-for-all-its-mobile-customers/\n",
      "Amazon’s Jeff Bezos, the world’s richest person, added $8 billion to his fortune https://fox6now.com/2020/02/02/amazons-jeff-bezos-the-worlds-richest-person-added-8-billion-to-his-fortune/\n",
      "Amazon Horrors, Buttholes on Facebook and the Truth About Face Masks: Best Gizmodo Stories of the Week https://gizmodo.com/amazon-horrors-buttholes-on-facebook-and-the-truth-abo-1841419953\n",
      "Amazon Horrors, Buttholes On Facebook And The Truth About Face Masks: Best Gizmodo Stories Of The Week https://www.gizmodo.com.au/2020/02/amazon-horrors-buttholes-on-facebook-and-the-truth-about-face-masks-best-gizmodo-stories-of-the-week/\n",
      "Is Amazon Responding to Employee Concerns About 'Ring' Privacy? https://technewstube.com/slashdot/1199394/amazon-responding-to-employee-concerns-ring-privacy/\n",
      "Is Amazon Responding to Employee Concerns About 'Ring' Privacy? https://yro.slashdot.org/story/20/02/02/1932239/is-amazon-responding-to-employee-concerns-about-ring-privacy\n",
      "Kentucky: Worker killed at Amazon hub construction site https://www.citynews1130.com/2020/02/02/kentucky-worker-killed-at-amazon-hub-construction-site/\n",
      "Kentucky: Worker killed at Amazon hub construction site https://www.mymcmurray.com/2020/02/02/kentucky-worker-killed-at-amazon-hub-construction-site/\n",
      "Kentucky: Worker killed at Amazon hub construction site https://www.570news.com/2020/02/02/kentucky-worker-killed-at-amazon-hub-construction-site/\n",
      "Kentucky: Worker killed at Amazon hub construction site https://www.680news.com/2020/02/02/kentucky-worker-killed-at-amazon-hub-construction-site/\n",
      "Kentucky: Worker killed at Amazon hub construction site https://toronto.citynews.ca/2020/02/02/kentucky-worker-killed-at-amazon-hub-construction-site/\n",
      "Kentucky: Worker killed at Amazon hub construction site https://www.ctpost.com/news/us/article/Worker-killed-on-Amazon-construction-site-at-Ky-15024439.php\n",
      "Kentucky: Worker killed at Amazon hub construction site https://www.seattletimes.com/business/kentucky-worker-killed-at-amazon-hub-construction-site/\n",
      "Kentucky: Worker killed at Amazon hub construction site https://www.timesunion.com/news/us/article/Worker-killed-on-Amazon-construction-site-at-Ky-15024439.php\n",
      "Kentucky: Worker killed at Amazon hub construction site https://www.greenwichtime.com/news/us/article/Worker-killed-on-Amazon-construction-site-at-Ky-15024439.php\n",
      "Kentucky: Worker killed at Amazon hub construction site https://www.stamfordadvocate.com/news/us/article/Worker-killed-on-Amazon-construction-site-at-Ky-15024439.php\n",
      "Kentucky: Worker killed at Amazon hub construction site https://wtop.com/national/2020/02/kentucky-worker-killed-at-amazon-hub-construction-site/\n",
      "Galloway on Antitrust + the Future of Amazon https://ritholtz.com/2020/02/antitrust-future-amazon/\n",
      "Coronavirus – UK pharmacies are running out of face masks as sales rise by 846 per cent on Amazon https://www.thesun.co.uk/news/10876657/coronavirus-pharmacies-run-out-face-masks/\n",
      "Why drone delivery is not possible in New York or Delhi https://www.newkerala.com/news/2020/17305.htm\n",
      "IT’S PROBABLY REALLY ABOUT TRYING TO GET POLITICAL COVER WHEN HIS FAMILY BUSINESS IS INVESTIGATED: … https://pjmedia.com/instapundit/356864/\n",
      "Watch this year’s tech-themed Super Bowl ads from Amazon, Google and more https://www.rocketnews.com/2020/02/watch-this-years-tech-themed-super-bowl-ads-from-amazon-google-and-more/\n",
      "This AirPods Pro deal is so good, you might want to keep it to yourself https://home.sparklight.com/news/read/category/news/article/bgr-this_airpods_pro_deal_is_so_good_you_might_want_to-rpenskemc\n",
      "This AirPods Pro deal is so good, you might want to keep it to yourself - news https://www.cincinnatibell.net/news/read/category/news/article/bgr-this_airpods_pro_deal_is_so_good_you_might_want_to-rpenskemc\n",
      "29 Things To Help Get You Through Flu Season In One Piece https://www.buzzfeed.com/marquaysa/things-to-help-get-you-through-flu-season-in-one-piece\n",
      "Ring Drops A Major App Update, Placing Privacy And Security Settings Front And Centre https://www.gizmodo.com.au/2020/02/ring-drops-a-major-app-update-placing-privacy-and-security-settings-front-and-center/\n",
      "Worker killed on Amazon construction site at Ky. airport https://thecourier.com/ohio-news/2020/02/02/worker-killed-on-amazon-construction-site-at-ky-airport/\n",
      "Kentucky: Worker killed at Amazon hub construction site https://www.cincinnatibell.net/news/read/category/news/article/the_associated_press-kentucky_worker_killed_at_amazon_hub_construction-ap\n",
      "Watch this year’s tech-themed Super Bowl ads from Amazon, Google and more http://conservativeangle.com/watch-this-years-tech-themed-super-bowl-ads-from-amazon-google-and-more/\n",
      "Stop Buying the MacBook Air https://thunderbaylive.com/stop-buying-the-macbook-air/\n",
      "“Volvemos a la Edad Media, un neofeudalismo en el que cinco empresas poseerán todo” http://suramericapress.com/volvemos-a-la-edad-media-un/\n",
      "New Year’s Resolutions Going OK? These Fitbit, Apple Deals Will Help https://www.forbes.com/sites/davidphelan/2020/02/02/new-years-resolutions-going-ok-these-fitbit-apple-deals-will-help/?utm_source=TWITTER&utm_medium=social&utm_term=Carrie/\n",
      "New Year’s Resolutions Going OK? These Fitbit, Apple Deals Will Help https://www.forbes.com/sites/davidphelan/2020/02/02/new-years-resolutions-going-ok-these-fitbit-apple-deals-will-help/\n",
      "Netflix to spend a whopping $20 billion on programming this year https://bgr.com/2020/02/02/netflix-budget-original-tv-shows-licensing-deals-20-billion/\n",
      "Have a First Aid Question? Don't Ask Siri Or Cortana. https://technewstube.com/slashdot/1199379/first-aid-question-ask-siri-cortana/\n",
      "Coroner: Man dies in accident at Amazon construction site at CVG https://www.wlwt.com/article/coroner-man-dies-in-accident-at-amazon-construction-site-at-cvg/30738236\n",
      "Jeff Bezos added billions more to his fortune this week - CNN https://www.cnn.com/2020/02/02/tech/jeff-bezos-amazon-wealth/index.html\n",
      "Pee Dee Electric Cooperative linemen headed to Bolivia - scnow.com https://www.scnow.com/messenger/news/pee-dee-electric-cooperative-linemen-headed-to-bolivia/article_5fd75fc8-c161-52f8-bb37-ad30ada5b0f1.html\n",
      "Pee Dee Electric Coop. linemen head to Bolivia for wildfire recovery - WBTW https://www.wbtw.com/news/pee-dee/pee-dee-electric-coop-linemen-head-to-bolivia-for-wildfire-recovery/\n",
      "44 Amazing Valentine's Day Gifts To Give From You To You https://www.buzzfeed.com/katyherman/best-valentines-day-gifts-for-yourself-2020\n",
      "02/02/2020 Book Report. http://moelane.com/2020/02/02/02-02-2020-book-report/\n",
      "Anker Elite USB Charger, Dual Port 24W Wall Charger. Standard USB-A, not PD or USB-C $8.09 http://www.wopular.com/anker-elite-usb-charger-dual-port-24w-wall-charger-standard-usb-not-pd-or-usb-c-809\n",
      "Supermarket with pastina? https://www.reddit.com/r/AskSF/comments/exsh6p/supermarket_with_pastina/\n",
      "Amazon highlights taxes paid in pushback against critics https://www.thedailystar.net/business/news/amazon-highlights-taxes-paid-pushback-against-critics-1862662\n",
      "Amazon Primed: Killer Earnings, Transparency Report Woes, +150 Million Prime Milestone https://www.forbes.com/sites/paularmstrongtech/2020/02/02/amazon-primed-killer-earnings-transparency-report-woes-150-million-prime-milestone/\n",
      "Tablets sales trickle for all but Apple, Amazon https://www.crn.com.au/news/tablets-sales-trickle-for-all-but-apple-amazon-537366\n",
      "FIRST LOOK | Check out these Super Bowl commercials that have already been leaked https://www.wkyc.com/article/sports/nfl/superbowl/check-out-these-super-bowl-commercials-that-have-been-leaked/95-7e3a2ccc-04d4-4c02-9d53-23cf17578e91\n",
      "This AirPods Pro deal is so good, you might want to keep it to yourself - news https://home.suddenlink.net/news/read/category/news/article/bgr-this_airpods_pro_deal_is_so_good_you_might_want_to-rpenskemc\n",
      "This AirPods Pro deal is so good, you might want to keep it to yourself https://bgr.com/2020/02/02/airpods-pro-price-apple-deal-airpods-2-sale/\n",
      "DIY Valentine's Day Suncatchers: Easy Valentine's Day Crafts https://www.thejerseymomma.com/2018/01/diy-valentines-day-suncatchers-easy.html\n",
      "‘Stock market's reaction on Budget surprising’: Niti Aayog https://www.freepressjournal.in/business/stock-markets-reaction-on-budget-surprising-niti-aayog\n",
      "Streaming Finds https://www.balloon-juice.com/2020/02/02/streaming-finds/\n",
      "Channel 4 looking for Gloucestershire families 'addicted to online shopping' https://www.gloucestershirelive.co.uk/whats-on/whats-on-news/channel-4-looking-gloucestershire-families-3796878\n",
      "Budget 2020: Amazon, Flipkart may seek clarification on 1% TDS levy https://www.freepressjournal.in/business/budget-2020-amazon-flipkart-may-seek-clarification-on-1-tds-levy\n",
      "Episode 806 Scott Adams: Coming To You From Space Force, Zero Gravity, Coronavirus, Fake News https://www.scottadamssays.com/2020/02/02/episode-806-scott-adams-coming-to-you-from-space-force-zero-gravity-coronavirus-fake-news/\n",
      "Amazon's Echo Auto makes Alexa your co-pilot https://www.cnet.com/news/amazons-echo-auto-makes-alexa-your-co-pilot/\n",
      "Pizza Hut Large Meat Lover's Pizza - $10 (3 replies) http://www.wopular.com/pizza-hut-large-meat-lovers-pizza-10-3-replies\n",
      "Media Attacks Aren’t Slowing Sanders’s Surge — They’re Showing His Independence https://truthout.org/articles/media-attacks-arent-slowing-sanderss-surge-theyre-showing-his-independence/\n",
      "Hacking the Hacks https://dcdirtylaundry.com/hacking-the-hacks/\n",
      "The True Story Behind Jordan Peele & Amazon’s 1970s Conspiracy Thriller Hunters https://www.refinery29.com/en-us/2020/02/9330234/nazi-hunters-amazon-show-true-story-real-events\n",
      "31 Beautiful Dresses That'll Probably Make Everyone Swoon https://www.buzzfeed.com/katyherman/dresses-swoon-2020\n",
      "Week in Review: Most popular stories on GeekWire for the week of Jan. 26, 2020 https://www.geekwire.com/2020/geekwire-weekly-roundup-2020-01-26/\n",
      "Road Flares for Emergency Roadside Situations Now Available on Amazon https://marketersmedia.com/road-flares-for-emergency-roadside-situations-now-available-on-amazon/88944933\n",
      "Warren accepts 'Big Ag' donations, despite saying she wouldn't https://www.washingtonexaminer.com/news/warren-accepts-big-ag-donations-despite-saying-she-wouldnt\n",
      "Amazon boss Jeff Bezos sued for defamation by girlfriend Lauren Sanchez's brother https://www.stuff.co.nz/world/americas/119212493/amazon-boss-jeff-bezos-sued-for-defamation-by-girlfriend-lauren-sanchezs-brother\n",
      "Amazon, Flipkart may seek clarification on proposal to levy 1% TDS https://www.thehindubusinessline.com/info-tech/amazon-flipkart-may-seek-clarification-on-proposal-to-levy-1-tds/article30720313.ece\n",
      "Amazon introduces barcode scanning feature on Echo Show https://technewstube.com/mspoweruser/1199345/amazon-introduces-barcode-scanning-feature-echo-show/\n",
      "29 Basic Home Tools You Can Get On Amazon That People Actually Swear By https://www.buzzfeed.com/malloryannp/basic-home-tools-amazon\n",
      "Amazon’s 2 best-selling devices ever are down to their lowest prices in months https://bgr.com/2020/02/02/echo-dot-price-fire-tv-stick-price-lowest-of-2020/\n",
      "Amazon-Bilanz 2019: Wie ticken eigentlich die Prime-Kunden? https://excitingcommerce.de/2020/02/02/amazon-bilanz-2019-wie-ticken-eigentlich-die-prime-kunden/\n",
      "Experts: Travel bans, business closures could hurt economy https://www.reddeeradvocate.com/business/experts-travel-bans-business-closures-could-hurt-economy/\n",
      "Phony Text Message Claims There’s a Problem with Your FedEx Delivery http://whnt.com/2020/02/02/phony-text-message-claims-theres-a-problem-with-your-fedex-delivery/\n",
      "Amazon’s Noise-Canceling Wireless Earbuds Are $40 Off https://gearpatrol.com/2020/02/02/amazon-echo-buds-deal/\n",
      "Instant Pot Released a New Product and I Have No Idea Who It’s For https://gearpatrol.com/2020/02/02/instant-pot-zen-kettle/\n",
      "The 5 best Amazon deals you can get this weekend http://computernutz.com/2020/02/02/the-5-best-amazon-deals-you-can-get-this-weekend-2/\n",
      "New York firm buys Revere’s former Necco plant for $355M https://reverebeach.com/revere-happenings/new-york-firm-buys-reveres-former-necco-plant-for-355m/\n",
      "Amazon kicks off Echo Super Bowl sale: Show 5 $65, Plus $120, more from $10 https://www.onenewspage.com/n/Technology/1zlqhn6tyr/Amazon-kicks-off-Echo-Super-Bowl-sale-Show.htm\n",
      "Amazon, Flipkart may approach govt for clarification on 1% TDS levy on e-commerce transactions https://www.businesstoday.in/current/corporate/amazon-flipkart-may-approach-govt-for-clarification-on-1-percent-tds-levy-on-e-commerce-transactions/story/395315.html\n",
      "Jeff Bezos sued by girlfriend Lauren’s brother over defamation http://www.canindia.com/jeff-bezos-sued-by-girlfriend-laurens-brother-over-defamation/\n",
      "34 Gorgeous Things To Wear On A Valentine's Day Date https://www.buzzfeed.com/kaylaboyd/gorgeous-things-to-wear-on-a-valentines-day-date\n",
      "Watch this year's tech-themed Super Bowl ads from Amazon, Google and more https://technewstube.com/techcrunch/1199332/watch-years-tech-themed-super-bowl-ads-amazon-google/\n",
      "Podcast 389, Your Transcript is Ready https://smartbitchestrashybooks.com/2020/02/podcast-389-your-transcript-is-ready/\n",
      "Bitcoin Surges Amid Coronavirus Outbreak; Can Blockchain Save Social Media? https://www.forbes.com/sites/cryptoconfidential/2020/02/02/bitcoin-surges-amid-coronavirus-outbreak-can-blockchain-save-social-media/\n",
      "Amazon’s Top 3 ‘Most Gifted’ Leggings Have Over 10,000 Five-Star Reviews Combined — See Why Shoppers Are Obsessed https://people.com/style/most-gifted-amazon-leggings/\n",
      "Watch this year’s tech-themed Super Bowl ads from Amazon, Google and more https://techcrunch.com/2020/02/02/tech-super-bowl-ads/\n",
      "Tech Test: Tribit StormBox passes test https://www.columbian.com/news/2020/feb/02/tech-test-tribit-stormbox-passes-test/\n",
      "ROGER KIMBALL: ‘Walls Are Closing In’ on the Democrats…. https://pjmedia.com/instapundit/356792/\n",
      "Khashoggi murder: Western powers are 'sending the wrong message' | Saudi Arabia http://www.aljazeera.com/programmes/upfront/2020/01/khashoggi-murder-western-powers-sending-wrong-message-200131080949473.html\n",
      "15-Pair Men's Game of Thrones 15 Days of Socks in a Box (Colors May Vary, 6-12) $4.50 at Target w/ Free Store Pickup *Price Drop http://www.wopular.com/15-pair-mens-game-thrones-15-days-socks-box-colors-may-vary-6-12-450-target-w-free-store-pickup-pric\n",
      "OPINION: Campaigners whose views were disregarded deserve apology https://www.sthelensstar.co.uk/news/18198587.opinion-campaigners-whose-views-disregarded-deserve-apology/\n",
      "Stocks drop amid uncertainty over virus impact; Amazon soars https://atlbusinessjournal.com/stocks-drop-amid-uncertainty-over-virus-impact-amazon-soars/\n",
      "Stephen Moore: Coronavirus Has Hurt China 'Substantially' https://www.newsmax.com/politics/coronavirus-global-emergency-commerce/2020/02/02/id/952289/\n",
      "10 deals you don’t want to miss on Sunday: Surprise Echo Dot deal, AirPods Pro back on sale, $129 Ring Doorbell 2, more https://bgr.com/2020/02/02/amazon-deals-of-the-day-on-feb-2/\n",
      "10 deals you don’t want to miss on Sunday: Surprise Echo Dot deal, AirPods Pro back on sale, $129 Ring Doorbell 2, more https://www.cincinnatibell.net/news/read/category/news/article/bgr-10_deals_you_dont_want_to_miss_on_sunday_surprise-rpenskemc-3\n",
      "Caitriona Balfe's character inspires ice cream flavour https://www.rte.ie/entertainment/2020/0202/1112595-caitriona-balfe/\n",
      "Le offerte di Amazon sui mouse wireless di Logitech https://primopiano24.it/le-offerte-di-amazon-sui-mouse-wireless-di-logitech/\n",
      "Stephen E. Arnold: Amazon AI, Non-Transfer, & Future Cross-Correlation Issues https://phibetaiota.net/2020/02/stephen-e-arnold-amazon-ai-non-transfer-future-cross-correlation-issues/\n",
      "55 Products That Should Win A Prize For Actually Doing Their Job https://www.buzzfeed.com/hbraga/products-that-should-win-a-prize-for-actually-doing\n",
      "100\n"
     ]
    }
   ],
   "source": [
    "feeds = []\n",
    "for item in output['posts']:\n",
    "    feeds.append(item)\n",
    "    print(item['title'], item['url'])\n",
    "\n",
    "print(len(feeds))"
   ]
  },
  {
   "cell_type": "code",
   "execution_count": 6,
   "metadata": {},
   "outputs": [
    {
     "name": "stdout",
     "output_type": "stream",
     "text": [
      "10000\n"
     ]
    }
   ],
   "source": [
    "count = 99\n",
    "while count > 0:    \n",
    "    output = webhoseio.get_next()\n",
    "    for item in output['posts']:\n",
    "        feeds.append(item)\n",
    "    count -= 1\n",
    "print(len(feeds))\n"
   ]
  },
  {
   "cell_type": "code",
   "execution_count": 7,
   "metadata": {
    "collapsed": true
   },
   "outputs": [],
   "source": [
    "import json\n",
    "with open(\"anly610_amazon.json\", \"w\") as myfile:\n",
    "    for feed in feeds:\n",
    "        line = json.dumps(feed)\n",
    "        myfile.write(line)\n",
    "        myfile.write(\"\\n\")"
   ]
  },
  {
   "cell_type": "code",
   "execution_count": 8,
   "metadata": {},
   "outputs": [
    {
     "name": "stdout",
     "output_type": "stream",
     "text": [
      "10000\n"
     ]
    }
   ],
   "source": [
    "json_data=open(\"anly610_amazon.json\").readlines()\n",
    "feeds_read_from_file = []\n",
    "for line in json_data:\n",
    "    feeds_read_from_file.append(json.loads(line))\n",
    "print(len(feeds_read_from_file))"
   ]
  },
  {
   "cell_type": "code",
   "execution_count": null,
   "metadata": {
    "collapsed": true
   },
   "outputs": [],
   "source": []
  }
 ],
 "metadata": {
  "kernelspec": {
   "display_name": "Python 3",
   "language": "python",
   "name": "python3"
  },
  "language_info": {
   "codemirror_mode": {
    "name": "ipython",
    "version": 3
   },
   "file_extension": ".py",
   "mimetype": "text/x-python",
   "name": "python",
   "nbconvert_exporter": "python",
   "pygments_lexer": "ipython3",
   "version": "3.7.4"
  }
 },
 "nbformat": 4,
 "nbformat_minor": 2
}
